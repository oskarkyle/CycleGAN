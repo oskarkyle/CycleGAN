{
 "cells": [
  {
   "cell_type": "code",
   "execution_count": 3,
   "metadata": {},
   "outputs": [],
   "source": [
    "import cv2\n",
    "import numpy as np"
   ]
  },
  {
   "cell_type": "code",
   "execution_count": 4,
   "metadata": {},
   "outputs": [],
   "source": [
    "def preprocess(img, imgsize, jitter, random_placing=False):\n",
    "    \"\"\"\n",
    "    Image preprocess for yolo input\n",
    "    Pad the shorter side of the image and resize to (imgsize, imgsize)\n",
    "    Args:\n",
    "        img (numpy.ndarray): input image whose shape is :math:`(H, W, C)`.\n",
    "            Values range from 0 to 255.\n",
    "        imgsize (int): target image size after pre-processing\n",
    "        jitter (float): amplitude of jitter for resizing\n",
    "        random_placing (bool): if True, place the image at random position\n",
    "    Returns:\n",
    "        img (numpy.ndarray): input image whose shape is :math:`(C, imgsize, imgsize)`.\n",
    "            Values range from 0 to 1.\n",
    "        info_img : tuple of h, w, nh, nw, dx, dy.\n",
    "            h, w (int): original shape of the image\n",
    "            nh, nw (int): shape of the resized image without padding\n",
    "            dx, dy (int): pad size\n",
    "    \"\"\"\n",
    "    h, w, _ = img.shape\n",
    "    img = img[:, :, ::-1]\n",
    "    assert img is not None\n",
    "    #尺寸大小的随机抖动，jitter越大，长宽的的变化越大\n",
    "    if jitter > 0:\n",
    "        # add jitter\n",
    "        dw = jitter * w\n",
    "        dh = jitter * h\n",
    "        new_ar = (w + np.random.uniform(low=-dw, high=dw))\\\n",
    "                 / (h + np.random.uniform(low=-dh, high=dh))\n",
    "    else:\n",
    "        new_ar = w / h\n",
    " \n",
    "    if new_ar < 1:\n",
    "        nh = imgsize\n",
    "        nw = nh * new_ar\n",
    "    else:\n",
    "        nw = imgsize\n",
    "        nh = nw / new_ar\n",
    "    nw, nh = int(nw), int(nh)\n",
    "    #图像填充位置的随机性\n",
    "    if random_placing:\n",
    "        dx = int(np.random.uniform(imgsize - nw))\n",
    "        dy = int(np.random.uniform(imgsize - nh))\n",
    "    else:\n",
    "        dx = (imgsize - nw) // 2\n",
    "        dy = (imgsize - nh) // 2\n",
    " \n",
    "    img = cv2.resize(img, (nw, nh))\n",
    "    sized = np.ones((imgsize, imgsize, 3), dtype=np.uint8) * 127\n",
    "    sized[dy:dy+nh, dx:dx+nw, :] = img\n",
    " \n",
    "    info_img = (h, w, nh, nw, dx, dy)\n",
    "    return sized, info_img"
   ]
  },
  {
   "cell_type": "code",
   "execution_count": 5,
   "metadata": {},
   "outputs": [
    {
     "name": "stdout",
     "output_type": "stream",
     "text": [
      "(500, 353, 3)\n",
      "(512, 512, 3)\n"
     ]
    }
   ],
   "source": [
    "jitter=0.9\n",
    "andom_placing=False\n",
    "img_size=512\n",
    "img=cv2.imread('test_img-1.jpg')\n",
    "print(img.shape)\n",
    "sized, info_img=preprocess(img, img_size, jitter=jitter,random_placing=andom_placing)\n",
    "print(sized.shape)\n",
    "sized=sized[:,:,::-1]\n",
    "cv2.imshow('imgs',img)\n",
    "cv2.imshow('img',sized)\n",
    "cv2.waitKey()"
   ]
  }
 ],
 "metadata": {
  "interpreter": {
   "hash": "7d6fca2ca3d9213c332a8629c8d57acccc7ff55b656f80cb2960d00ac63f5145"
  },
  "kernelspec": {
   "display_name": "Python 3.9.10 ('env_tf')",
   "language": "python",
   "name": "python3"
  },
  "language_info": {
   "codemirror_mode": {
    "name": "ipython",
    "version": 3
   },
   "file_extension": ".py",
   "mimetype": "text/x-python",
   "name": "python",
   "nbconvert_exporter": "python",
   "pygments_lexer": "ipython3",
   "version": "3.9.10"
  },
  "orig_nbformat": 4
 },
 "nbformat": 4,
 "nbformat_minor": 2
}
